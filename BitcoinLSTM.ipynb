{
  "nbformat": 4,
  "nbformat_minor": 0,
  "metadata": {
    "colab": {
      "name": "BitcoinLSTM.ipynb",
      "provenance": []
    },
    "kernelspec": {
      "name": "python3",
      "display_name": "Python 3"
    },
    "language_info": {
      "name": "python"
    }
  },
  "cells": [
    {
      "cell_type": "code",
      "execution_count": null,
      "metadata": {
        "id": "t6ppmzzmJLlM"
      },
      "outputs": [],
      "source": [
        "#Bitcoin Prediction with LSTM"
      ]
    },
    {
      "cell_type": "code",
      "source": [
        "import math\n",
        "import pandas_datareader as web\n",
        "from sklearn.preprocessing import MinMaxScaler\n",
        "from keras.models import Sequential\n",
        "from keras.layers import Dense, LSTM\n",
        "import numpy as np\n",
        "import pandas as pd\n",
        "from sklearn.tree import DecisionTreeRegressor\n",
        "from sklearn.linear_model import LinearRegression\n",
        "from sklearn.model_selection import train_test_split\n",
        "import matplotlib.pyplot as plt\n",
        "plt.style.use('fivethirtyeight')"
      ],
      "metadata": {
        "id": "r3v3lu6OKjzQ"
      },
      "execution_count": 1,
      "outputs": []
    },
    {
      "cell_type": "code",
      "source": [
        "pip install yfinance"
      ],
      "metadata": {
        "colab": {
          "base_uri": "https://localhost:8080/",
          "height": 641
        },
        "id": "OK8TNPIXLwNk",
        "outputId": "591b9f8d-caf5-48de-c4ae-70c033a806cb"
      },
      "execution_count": 4,
      "outputs": [
        {
          "output_type": "stream",
          "name": "stdout",
          "text": [
            "Collecting yfinance\n",
            "  Downloading yfinance-0.1.68-py2.py3-none-any.whl (26 kB)\n",
            "Collecting lxml>=4.5.1\n",
            "  Downloading lxml-4.7.1-cp37-cp37m-manylinux_2_17_x86_64.manylinux2014_x86_64.manylinux_2_24_x86_64.whl (6.4 MB)\n",
            "\u001b[K     |████████████████████████████████| 6.4 MB 6.1 MB/s \n",
            "\u001b[?25hRequirement already satisfied: numpy>=1.15 in /usr/local/lib/python3.7/dist-packages (from yfinance) (1.19.5)\n",
            "Collecting requests>=2.26\n",
            "  Downloading requests-2.27.1-py2.py3-none-any.whl (63 kB)\n",
            "\u001b[K     |████████████████████████████████| 63 kB 1.2 MB/s \n",
            "\u001b[?25hRequirement already satisfied: multitasking>=0.0.7 in /usr/local/lib/python3.7/dist-packages (from yfinance) (0.0.10)\n",
            "Requirement already satisfied: pandas>=0.24 in /usr/local/lib/python3.7/dist-packages (from yfinance) (1.1.5)\n",
            "Requirement already satisfied: python-dateutil>=2.7.3 in /usr/local/lib/python3.7/dist-packages (from pandas>=0.24->yfinance) (2.8.2)\n",
            "Requirement already satisfied: pytz>=2017.2 in /usr/local/lib/python3.7/dist-packages (from pandas>=0.24->yfinance) (2018.9)\n",
            "Requirement already satisfied: six>=1.5 in /usr/local/lib/python3.7/dist-packages (from python-dateutil>=2.7.3->pandas>=0.24->yfinance) (1.15.0)\n",
            "Requirement already satisfied: idna<4,>=2.5 in /usr/local/lib/python3.7/dist-packages (from requests>=2.26->yfinance) (2.10)\n",
            "Requirement already satisfied: certifi>=2017.4.17 in /usr/local/lib/python3.7/dist-packages (from requests>=2.26->yfinance) (2021.10.8)\n",
            "Requirement already satisfied: urllib3<1.27,>=1.21.1 in /usr/local/lib/python3.7/dist-packages (from requests>=2.26->yfinance) (1.24.3)\n",
            "Requirement already satisfied: charset-normalizer~=2.0.0 in /usr/local/lib/python3.7/dist-packages (from requests>=2.26->yfinance) (2.0.9)\n",
            "Installing collected packages: requests, lxml, yfinance\n",
            "  Attempting uninstall: requests\n",
            "    Found existing installation: requests 2.23.0\n",
            "    Uninstalling requests-2.23.0:\n",
            "      Successfully uninstalled requests-2.23.0\n",
            "  Attempting uninstall: lxml\n",
            "    Found existing installation: lxml 4.2.6\n",
            "    Uninstalling lxml-4.2.6:\n",
            "      Successfully uninstalled lxml-4.2.6\n",
            "\u001b[31mERROR: pip's dependency resolver does not currently take into account all the packages that are installed. This behaviour is the source of the following dependency conflicts.\n",
            "google-colab 1.0.0 requires requests~=2.23.0, but you have requests 2.27.1 which is incompatible.\n",
            "datascience 0.10.6 requires folium==0.2.1, but you have folium 0.8.3 which is incompatible.\u001b[0m\n",
            "Successfully installed lxml-4.7.1 requests-2.27.1 yfinance-0.1.68\n"
          ]
        },
        {
          "output_type": "display_data",
          "data": {
            "application/vnd.colab-display-data+json": {
              "pip_warning": {
                "packages": [
                  "requests"
                ]
              }
            }
          },
          "metadata": {}
        }
      ]
    },
    {
      "cell_type": "code",
      "source": [
        "import yfinance as yf\n",
        "df = yf.download(\"BTC-USD\", period=\"1y\")\n",
        "df"
      ],
      "metadata": {
        "colab": {
          "base_uri": "https://localhost:8080/",
          "height": 472
        },
        "id": "y77ZTQj1LJC1",
        "outputId": "efdf7c40-4372-4ca9-962d-9c3a70f0585e"
      },
      "execution_count": 5,
      "outputs": [
        {
          "output_type": "stream",
          "name": "stdout",
          "text": [
            "\r[*********************100%***********************]  1 of 1 completed\n"
          ]
        },
        {
          "output_type": "execute_result",
          "data": {
            "text/html": [
              "\n",
              "  <div id=\"df-41b51df0-2493-4ca1-be81-2326a1dc01d8\">\n",
              "    <div class=\"colab-df-container\">\n",
              "      <div>\n",
              "<style scoped>\n",
              "    .dataframe tbody tr th:only-of-type {\n",
              "        vertical-align: middle;\n",
              "    }\n",
              "\n",
              "    .dataframe tbody tr th {\n",
              "        vertical-align: top;\n",
              "    }\n",
              "\n",
              "    .dataframe thead th {\n",
              "        text-align: right;\n",
              "    }\n",
              "</style>\n",
              "<table border=\"1\" class=\"dataframe\">\n",
              "  <thead>\n",
              "    <tr style=\"text-align: right;\">\n",
              "      <th></th>\n",
              "      <th>Open</th>\n",
              "      <th>High</th>\n",
              "      <th>Low</th>\n",
              "      <th>Close</th>\n",
              "      <th>Adj Close</th>\n",
              "      <th>Volume</th>\n",
              "    </tr>\n",
              "    <tr>\n",
              "      <th>Date</th>\n",
              "      <th></th>\n",
              "      <th></th>\n",
              "      <th></th>\n",
              "      <th></th>\n",
              "      <th></th>\n",
              "      <th></th>\n",
              "    </tr>\n",
              "  </thead>\n",
              "  <tbody>\n",
              "    <tr>\n",
              "      <th>2021-01-06</th>\n",
              "      <td>34013.613281</td>\n",
              "      <td>36879.699219</td>\n",
              "      <td>33514.035156</td>\n",
              "      <td>36824.363281</td>\n",
              "      <td>36824.363281</td>\n",
              "      <td>75289433811</td>\n",
              "    </tr>\n",
              "    <tr>\n",
              "      <th>2021-01-07</th>\n",
              "      <td>36833.875000</td>\n",
              "      <td>40180.367188</td>\n",
              "      <td>36491.191406</td>\n",
              "      <td>39371.042969</td>\n",
              "      <td>39371.042969</td>\n",
              "      <td>84762141031</td>\n",
              "    </tr>\n",
              "    <tr>\n",
              "      <th>2021-01-08</th>\n",
              "      <td>39381.765625</td>\n",
              "      <td>41946.738281</td>\n",
              "      <td>36838.636719</td>\n",
              "      <td>40797.609375</td>\n",
              "      <td>40797.609375</td>\n",
              "      <td>88107519480</td>\n",
              "    </tr>\n",
              "    <tr>\n",
              "      <th>2021-01-09</th>\n",
              "      <td>40788.640625</td>\n",
              "      <td>41436.351562</td>\n",
              "      <td>38980.875000</td>\n",
              "      <td>40254.546875</td>\n",
              "      <td>40254.546875</td>\n",
              "      <td>61984162837</td>\n",
              "    </tr>\n",
              "    <tr>\n",
              "      <th>2021-01-10</th>\n",
              "      <td>40254.218750</td>\n",
              "      <td>41420.191406</td>\n",
              "      <td>35984.628906</td>\n",
              "      <td>38356.441406</td>\n",
              "      <td>38356.441406</td>\n",
              "      <td>79980747690</td>\n",
              "    </tr>\n",
              "    <tr>\n",
              "      <th>...</th>\n",
              "      <td>...</td>\n",
              "      <td>...</td>\n",
              "      <td>...</td>\n",
              "      <td>...</td>\n",
              "      <td>...</td>\n",
              "      <td>...</td>\n",
              "    </tr>\n",
              "    <tr>\n",
              "      <th>2022-01-01</th>\n",
              "      <td>46311.746094</td>\n",
              "      <td>47827.312500</td>\n",
              "      <td>46288.484375</td>\n",
              "      <td>47686.812500</td>\n",
              "      <td>47686.812500</td>\n",
              "      <td>24582667004</td>\n",
              "    </tr>\n",
              "    <tr>\n",
              "      <th>2022-01-02</th>\n",
              "      <td>47680.925781</td>\n",
              "      <td>47881.406250</td>\n",
              "      <td>46856.937500</td>\n",
              "      <td>47345.218750</td>\n",
              "      <td>47345.218750</td>\n",
              "      <td>27951569547</td>\n",
              "    </tr>\n",
              "    <tr>\n",
              "      <th>2022-01-03</th>\n",
              "      <td>47343.542969</td>\n",
              "      <td>47510.726562</td>\n",
              "      <td>45835.964844</td>\n",
              "      <td>46458.117188</td>\n",
              "      <td>46458.117188</td>\n",
              "      <td>33071628362</td>\n",
              "    </tr>\n",
              "    <tr>\n",
              "      <th>2022-01-04</th>\n",
              "      <td>46458.851562</td>\n",
              "      <td>47406.546875</td>\n",
              "      <td>45752.464844</td>\n",
              "      <td>45897.574219</td>\n",
              "      <td>45897.574219</td>\n",
              "      <td>42494677905</td>\n",
              "    </tr>\n",
              "    <tr>\n",
              "      <th>2022-01-06</th>\n",
              "      <td>43429.031250</td>\n",
              "      <td>43745.097656</td>\n",
              "      <td>43412.234375</td>\n",
              "      <td>43412.234375</td>\n",
              "      <td>43412.234375</td>\n",
              "      <td>38522355712</td>\n",
              "    </tr>\n",
              "  </tbody>\n",
              "</table>\n",
              "<p>365 rows × 6 columns</p>\n",
              "</div>\n",
              "      <button class=\"colab-df-convert\" onclick=\"convertToInteractive('df-41b51df0-2493-4ca1-be81-2326a1dc01d8')\"\n",
              "              title=\"Convert this dataframe to an interactive table.\"\n",
              "              style=\"display:none;\">\n",
              "        \n",
              "  <svg xmlns=\"http://www.w3.org/2000/svg\" height=\"24px\"viewBox=\"0 0 24 24\"\n",
              "       width=\"24px\">\n",
              "    <path d=\"M0 0h24v24H0V0z\" fill=\"none\"/>\n",
              "    <path d=\"M18.56 5.44l.94 2.06.94-2.06 2.06-.94-2.06-.94-.94-2.06-.94 2.06-2.06.94zm-11 1L8.5 8.5l.94-2.06 2.06-.94-2.06-.94L8.5 2.5l-.94 2.06-2.06.94zm10 10l.94 2.06.94-2.06 2.06-.94-2.06-.94-.94-2.06-.94 2.06-2.06.94z\"/><path d=\"M17.41 7.96l-1.37-1.37c-.4-.4-.92-.59-1.43-.59-.52 0-1.04.2-1.43.59L10.3 9.45l-7.72 7.72c-.78.78-.78 2.05 0 2.83L4 21.41c.39.39.9.59 1.41.59.51 0 1.02-.2 1.41-.59l7.78-7.78 2.81-2.81c.8-.78.8-2.07 0-2.86zM5.41 20L4 18.59l7.72-7.72 1.47 1.35L5.41 20z\"/>\n",
              "  </svg>\n",
              "      </button>\n",
              "      \n",
              "  <style>\n",
              "    .colab-df-container {\n",
              "      display:flex;\n",
              "      flex-wrap:wrap;\n",
              "      gap: 12px;\n",
              "    }\n",
              "\n",
              "    .colab-df-convert {\n",
              "      background-color: #E8F0FE;\n",
              "      border: none;\n",
              "      border-radius: 50%;\n",
              "      cursor: pointer;\n",
              "      display: none;\n",
              "      fill: #1967D2;\n",
              "      height: 32px;\n",
              "      padding: 0 0 0 0;\n",
              "      width: 32px;\n",
              "    }\n",
              "\n",
              "    .colab-df-convert:hover {\n",
              "      background-color: #E2EBFA;\n",
              "      box-shadow: 0px 1px 2px rgba(60, 64, 67, 0.3), 0px 1px 3px 1px rgba(60, 64, 67, 0.15);\n",
              "      fill: #174EA6;\n",
              "    }\n",
              "\n",
              "    [theme=dark] .colab-df-convert {\n",
              "      background-color: #3B4455;\n",
              "      fill: #D2E3FC;\n",
              "    }\n",
              "\n",
              "    [theme=dark] .colab-df-convert:hover {\n",
              "      background-color: #434B5C;\n",
              "      box-shadow: 0px 1px 3px 1px rgba(0, 0, 0, 0.15);\n",
              "      filter: drop-shadow(0px 1px 2px rgba(0, 0, 0, 0.3));\n",
              "      fill: #FFFFFF;\n",
              "    }\n",
              "  </style>\n",
              "\n",
              "      <script>\n",
              "        const buttonEl =\n",
              "          document.querySelector('#df-41b51df0-2493-4ca1-be81-2326a1dc01d8 button.colab-df-convert');\n",
              "        buttonEl.style.display =\n",
              "          google.colab.kernel.accessAllowed ? 'block' : 'none';\n",
              "\n",
              "        async function convertToInteractive(key) {\n",
              "          const element = document.querySelector('#df-41b51df0-2493-4ca1-be81-2326a1dc01d8');\n",
              "          const dataTable =\n",
              "            await google.colab.kernel.invokeFunction('convertToInteractive',\n",
              "                                                     [key], {});\n",
              "          if (!dataTable) return;\n",
              "\n",
              "          const docLinkHtml = 'Like what you see? Visit the ' +\n",
              "            '<a target=\"_blank\" href=https://colab.research.google.com/notebooks/data_table.ipynb>data table notebook</a>'\n",
              "            + ' to learn more about interactive tables.';\n",
              "          element.innerHTML = '';\n",
              "          dataTable['output_type'] = 'display_data';\n",
              "          await google.colab.output.renderOutput(dataTable, element);\n",
              "          const docLink = document.createElement('div');\n",
              "          docLink.innerHTML = docLinkHtml;\n",
              "          element.appendChild(docLink);\n",
              "        }\n",
              "      </script>\n",
              "    </div>\n",
              "  </div>\n",
              "  "
            ],
            "text/plain": [
              "                    Open          High  ...     Adj Close       Volume\n",
              "Date                                    ...                           \n",
              "2021-01-06  34013.613281  36879.699219  ...  36824.363281  75289433811\n",
              "2021-01-07  36833.875000  40180.367188  ...  39371.042969  84762141031\n",
              "2021-01-08  39381.765625  41946.738281  ...  40797.609375  88107519480\n",
              "2021-01-09  40788.640625  41436.351562  ...  40254.546875  61984162837\n",
              "2021-01-10  40254.218750  41420.191406  ...  38356.441406  79980747690\n",
              "...                  ...           ...  ...           ...          ...\n",
              "2022-01-01  46311.746094  47827.312500  ...  47686.812500  24582667004\n",
              "2022-01-02  47680.925781  47881.406250  ...  47345.218750  27951569547\n",
              "2022-01-03  47343.542969  47510.726562  ...  46458.117188  33071628362\n",
              "2022-01-04  46458.851562  47406.546875  ...  45897.574219  42494677905\n",
              "2022-01-06  43429.031250  43745.097656  ...  43412.234375  38522355712\n",
              "\n",
              "[365 rows x 6 columns]"
            ]
          },
          "metadata": {},
          "execution_count": 5
        }
      ]
    },
    {
      "cell_type": "code",
      "source": [
        "df.shape"
      ],
      "metadata": {
        "colab": {
          "base_uri": "https://localhost:8080/"
        },
        "id": "fNMmtppaL6c2",
        "outputId": "5c55413f-68f4-4696-8126-72e599154c7b"
      },
      "execution_count": 6,
      "outputs": [
        {
          "output_type": "execute_result",
          "data": {
            "text/plain": [
              "(365, 6)"
            ]
          },
          "metadata": {},
          "execution_count": 6
        }
      ]
    },
    {
      "cell_type": "code",
      "source": [
        "plt.figure(figsize=(16,8))\n",
        "plt.title('Bitcoin Model')\n",
        "plt.xlabel('Days')\n",
        "plt.ylabel('Close Price USD')\n",
        "plt.plot(df['Close'])\n",
        "plt.show()"
      ],
      "metadata": {
        "colab": {
          "base_uri": "https://localhost:8080/",
          "height": 512
        },
        "id": "CqE0E9M_L9lv",
        "outputId": "24d800a0-07af-4272-b5fb-f63f1d2b73b7"
      },
      "execution_count": 9,
      "outputs": [
        {
          "output_type": "display_data",
          "data": {
            "image/png": "[encoded data removed]",
            "text/plain": [
              "<Figure size 1152x576 with 1 Axes>"
            ]
          },
          "metadata": {
            "needs_background": "light"
          }
        }
      ]
    },
    {
      "cell_type": "code",
      "source": [
        "data = df.filter(['Close'])\n",
        "dataset = data.values\n",
        "training_data_len = math.ceil(len(dataset) * 0.8)\n",
        "training_data_len"
      ],
      "metadata": {
        "colab": {
          "base_uri": "https://localhost:8080/"
        },
        "id": "NrU8_E6YMSYy",
        "outputId": "f66e87a8-42b4-4ce3-fead-b85191270683"
      },
      "execution_count": 10,
      "outputs": [
        {
          "output_type": "execute_result",
          "data": {
            "text/plain": [
              "292"
            ]
          },
          "metadata": {},
          "execution_count": 10
        }
      ]
    },
    {
      "cell_type": "code",
      "source": [
        "#Data Preprocessing\n",
        "scaler = MinMaxScaler(feature_range=(0,1))\n",
        "scaled_data = scaler.fit_transform(dataset)\n",
        "scaled_data"
      ],
      "metadata": {
        "colab": {
          "base_uri": "https://localhost:8080/"
        },
        "id": "bTyqCpsvMsFg",
        "outputId": "2cf3d695-31dd-437a-e0dc-fcd48e05a72e"
      },
      "execution_count": 13,
      "outputs": [
        {
          "output_type": "execute_result",
          "data": {
            "text/plain": [
              "array([[0.18583454],\n",
              "       [0.25327931],\n",
              "       [0.29105966],\n",
              "       [0.27667751],\n",
              "       [0.2264092 ],\n",
              "       [0.15252616],\n",
              "       [0.1089955 ],\n",
              "       [0.19886428],\n",
              "       [0.24841392],\n",
              "       [0.18586113],\n",
              "       [0.16872036],\n",
              "       [0.15847489],\n",
              "       [0.1806891 ],\n",
              "       [0.16585125],\n",
              "       [0.15202546],\n",
              "       [0.02696943],\n",
              "       [0.08470493],\n",
              "       [0.05986033],\n",
              "       [0.06573266],\n",
              "       [0.06777225],\n",
              "       [0.07316049],\n",
              "       [0.01655741],\n",
              "       [0.0968962 ],\n",
              "       [0.11941475],\n",
              "       [0.11817365],\n",
              "       [0.08758096],\n",
              "       [0.09877859],\n",
              "       [0.15103337],\n",
              "       [0.20298855],\n",
              "       [0.18852798],\n",
              "       [0.2207912 ],\n",
              "       [0.25049773],\n",
              "       [0.24089563],\n",
              "       [0.4340398 ],\n",
              "       [0.44157805],\n",
              "       [0.40018654],\n",
              "       [0.47940237],\n",
              "       [0.46869034],\n",
              "       [0.45811456],\n",
              "       [0.50079983],\n",
              "       [0.48034853],\n",
              "       [0.51358025],\n",
              "       [0.59168346],\n",
              "       [0.57925715],\n",
              "       [0.69070826],\n",
              "       [0.6963065 ],\n",
              "       [0.7344539 ],\n",
              "       [0.64619461],\n",
              "       [0.50363718],\n",
              "       [0.52696658],\n",
              "       [0.45780566],\n",
              "       [0.43783479],\n",
              "       [0.43382762],\n",
              "       [0.40600193],\n",
              "       [0.52500443],\n",
              "       [0.49184047],\n",
              "       [0.54902489],\n",
              "       [0.49666521],\n",
              "       [0.50636176],\n",
              "       [0.50596658],\n",
              "       [0.56672771],\n",
              "       [0.59426601],\n",
              "       [0.6625295 ],\n",
              "       [0.69389734],\n",
              "       [0.74147666],\n",
              "       [0.72894918],\n",
              "       [0.83252571],\n",
              "       [0.7811275 ],\n",
              "       [0.69121321],\n",
              "       [0.71498745],\n",
              "       [0.76970198],\n",
              "       [0.74290149],\n",
              "       [0.75581826],\n",
              "       [0.7549441 ],\n",
              "       [0.7340163 ],\n",
              "       [0.65471761],\n",
              "       [0.66027385],\n",
              "       [0.60824243],\n",
              "       [0.57990238],\n",
              "       [0.67082398],\n",
              "       [0.69296939],\n",
              "       [0.69236648],\n",
              "       [0.74002214],\n",
              "       [0.77094132],\n",
              "       [0.77097153],\n",
              "       [0.77565847],\n",
              "       [0.78329904],\n",
              "       [0.73614739],\n",
              "       [0.76672684],\n",
              "       [0.77465396],\n",
              "       [0.75173205],\n",
              "       [0.69496692],\n",
              "       [0.7552171 ],\n",
              "       [0.75312626],\n",
              "       [0.79412869],\n",
              "       [0.80503272],\n",
              "       [0.79678282],\n",
              "       [0.89238806],\n",
              "       [0.8819599 ],\n",
              "       [0.8873709 ],\n",
              "       [0.84125737],\n",
              "       [0.81771445],\n",
              "       [0.69939617],\n",
              "       [0.6863685 ],\n",
              "       [0.70619837],\n",
              "       [0.638217  ],\n",
              "       [0.58144142],\n",
              "       [0.56373405],\n",
              "       [0.53611753],\n",
              "       [0.50839964],\n",
              "       [0.64128018],\n",
              "       [0.66806453],\n",
              "       [0.66254501],\n",
              "       [0.62892183],\n",
              "       [0.74002152],\n",
              "       [0.74208392],\n",
              "       [0.71038399],\n",
              "       [0.72545874],\n",
              "       [0.6230539 ],\n",
              "       [0.73138348],\n",
              "       [0.70417198],\n",
              "       [0.72959305],\n",
              "       [0.76792449],\n",
              "       [0.75279025],\n",
              "       [0.68995783],\n",
              "       [0.71233042],\n",
              "       [0.51227367],\n",
              "       [0.52725418],\n",
              "       [0.53160656],\n",
              "       [0.4489691 ],\n",
              "       [0.44091472],\n",
              "       [0.36362164],\n",
              "       [0.34698715],\n",
              "       [0.19055066],\n",
              "       [0.29066583],\n",
              "       [0.19855527],\n",
              "       [0.20469787],\n",
              "       [0.1314434 ],\n",
              "       [0.23566619],\n",
              "       [0.22762164],\n",
              "       [0.25124423],\n",
              "       [0.22854184],\n",
              "       [0.15599414],\n",
              "       [0.1273513 ],\n",
              "       [0.15547834],\n",
              "       [0.19930115],\n",
              "       [0.18214176],\n",
              "       [0.20571872],\n",
              "       [0.24898166],\n",
              "       [0.18768952],\n",
              "       [0.15213688],\n",
              "       [0.16035791],\n",
              "       [0.09940177],\n",
              "       [0.09706927],\n",
              "       [0.19962598],\n",
              "       [0.18260977],\n",
              "       [0.19934201],\n",
              "       [0.15215167],\n",
              "       [0.24604448],\n",
              "       [0.27572225],\n",
              "       [0.28069565],\n",
              "       [0.22616081],\n",
              "       [0.21838638],\n",
              "       [0.15836813],\n",
              "       [0.15382954],\n",
              "       [0.15601245],\n",
              "       [0.04950666],\n",
              "       [0.07146053],\n",
              "       [0.10370057],\n",
              "       [0.12857936],\n",
              "       [0.04847608],\n",
              "       [0.06300218],\n",
              "       [0.12824056],\n",
              "       [0.12253845],\n",
              "       [0.16050088],\n",
              "       [0.13860064],\n",
              "       [0.09970395],\n",
              "       [0.1083092 ],\n",
              "       [0.12874116],\n",
              "       [0.1451406 ],\n",
              "       [0.10430907],\n",
              "       [0.11726453],\n",
              "       [0.10720435],\n",
              "       [0.08130471],\n",
              "       [0.10568641],\n",
              "       [0.09833747],\n",
              "       [0.11739674],\n",
              "       [0.08867972],\n",
              "       [0.07666095],\n",
              "       [0.0798475 ],\n",
              "       [0.05226192],\n",
              "       [0.0427493 ],\n",
              "       [0.04570298],\n",
              "       [0.05268777],\n",
              "       [0.02676108],\n",
              "       [0.        ],\n",
              "       [0.06100046],\n",
              "       [0.06636102],\n",
              "       [0.09995379],\n",
              "       [0.1187807 ],\n",
              "       [0.14679333],\n",
              "       [0.19942508],\n",
              "       [0.25423003],\n",
              "       [0.26982783],\n",
              "       [0.27015928],\n",
              "       [0.32914116],\n",
              "       [0.31300345],\n",
              "       [0.26927137],\n",
              "       [0.24880103],\n",
              "       [0.22102086],\n",
              "       [0.26324929],\n",
              "       [0.29296502],\n",
              "       [0.34452678],\n",
              "       [0.39058941],\n",
              "       [0.37052336],\n",
              "       [0.43851384],\n",
              "       [0.41784695],\n",
              "       [0.41807485],\n",
              "       [0.38721246],\n",
              "       [0.47632998],\n",
              "       [0.45788759],\n",
              "       [0.45656497],\n",
              "       [0.4289555 ],\n",
              "       [0.3942854 ],\n",
              "       [0.39708809],\n",
              "       [0.44784066],\n",
              "       [0.51726951],\n",
              "       [0.50578409],\n",
              "       [0.51680543],\n",
              "       [0.52275086],\n",
              "       [0.47402055],\n",
              "       [0.50724854],\n",
              "       [0.45378991],\n",
              "       [0.50984071],\n",
              "       [0.50570226],\n",
              "       [0.50378035],\n",
              "       [0.45677632],\n",
              "       [0.45973461],\n",
              "       [0.50423574],\n",
              "       [0.5169662 ],\n",
              "       [0.53544241],\n",
              "       [0.53330388],\n",
              "       [0.58120669],\n",
              "       [0.6045154 ],\n",
              "       [0.4503182 ],\n",
              "       [0.43125707],\n",
              "       [0.43920292],\n",
              "       [0.39927886],\n",
              "       [0.40768859],\n",
              "       [0.43051233],\n",
              "       [0.4013754 ],\n",
              "       [0.45776966],\n",
              "       [0.48647385],\n",
              "       [0.47606618],\n",
              "       [0.46240498],\n",
              "       [0.48917558],\n",
              "       [0.46221163],\n",
              "       [0.3452498 ],\n",
              "       [0.28830715],\n",
              "       [0.36460142],\n",
              "       [0.39957515],\n",
              "       [0.34514252],\n",
              "       [0.34188092],\n",
              "       [0.35490932],\n",
              "       [0.32914602],\n",
              "       [0.29733448],\n",
              "       [0.31136593],\n",
              "       [0.37033208],\n",
              "       [0.48490057],\n",
              "       [0.47416279],\n",
              "       [0.48709901],\n",
              "       [0.51127702],\n",
              "       [0.5748878 ],\n",
              "       [0.67675988],\n",
              "       [0.63556586],\n",
              "       [0.63985255],\n",
              "       [0.6663459 ],\n",
              "       [0.66113808],\n",
              "       [0.73299317],\n",
              "       [0.69475826],\n",
              "       [0.73077674],\n",
              "       [0.72866934],\n",
              "       [0.84181777],\n",
              "       [0.82323251],\n",
              "       [0.84074964],\n",
              "       [0.85326202],\n",
              "       [0.91247666],\n",
              "       [0.95831531],\n",
              "       [0.85813745],\n",
              "       [0.81793811],\n",
              "       [0.83651229],\n",
              "       [0.82425626],\n",
              "       [0.88010948],\n",
              "       [0.80923903],\n",
              "       [0.75941297],\n",
              "       [0.81608085],\n",
              "       [0.85860867],\n",
              "       [0.84962727],\n",
              "       [0.83453504],\n",
              "       [0.82620466],\n",
              "       [0.8850507 ],\n",
              "       [0.87826153],\n",
              "       [0.83806457],\n",
              "       [0.82941629],\n",
              "       [0.84005745],\n",
              "       [0.88771456],\n",
              "       [1.        ],\n",
              "       [0.98424237],\n",
              "       [0.93189531],\n",
              "       [0.93069642],\n",
              "       [0.90966807],\n",
              "       [0.9179729 ],\n",
              "       [0.94438514],\n",
              "       [0.89382913],\n",
              "       [0.8038749 ],\n",
              "       [0.80935076],\n",
              "       [0.71862189],\n",
              "       [0.74980456],\n",
              "       [0.79158525],\n",
              "       [0.76598323],\n",
              "       [0.70133225],\n",
              "       [0.73522533],\n",
              "       [0.70109752],\n",
              "       [0.72742876],\n",
              "       [0.62930998],\n",
              "       [0.66229011],\n",
              "       [0.72673429],\n",
              "       [0.74151494],\n",
              "       [0.720298  ],\n",
              "       [0.72624094],\n",
              "       [0.7063251 ],\n",
              "       [0.63006424],\n",
              "       [0.51360229],\n",
              "       [0.51805533],\n",
              "       [0.5502003 ],\n",
              "       [0.55331106],\n",
              "       [0.54813914],\n",
              "       [0.47312021],\n",
              "       [0.46176369],\n",
              "       [0.51788743],\n",
              "       [0.53737467],\n",
              "       [0.44836774],\n",
              "       [0.44506134],\n",
              "       [0.50555184],\n",
              "       [0.4729429 ],\n",
              "       [0.43419021],\n",
              "       [0.45131526],\n",
              "       [0.44756092],\n",
              "       [0.45214949],\n",
              "       [0.50660828],\n",
              "       [0.4984487 ],\n",
              "       [0.55554767],\n",
              "       [0.55654494],\n",
              "       [0.54615454],\n",
              "       [0.55620913],\n",
              "       [0.55173085],\n",
              "       [0.47091505],\n",
              "       [0.4406142 ],\n",
              "       [0.46003751],\n",
              "       [0.43695245],\n",
              "       [0.47350929],\n",
              "       [0.46446272],\n",
              "       [0.44096924],\n",
              "       [0.42612415],\n",
              "       [0.36030386]])"
            ]
          },
          "metadata": {},
          "execution_count": 13
        }
      ]
    },
    {
      "cell_type": "code",
      "source": [
        "train_data = scaled_data[0:training_data_len, :]\n",
        "x_train = []\n",
        "y_train = []\n",
        "\n",
        "for i in range(60, len(train_data)):\n",
        "  x_train.append(train_data[i-60:i, 0])\n",
        "  y_train.append(train_data[i, 0])\n",
        "  if i<=61:\n",
        "    print(x_train)\n",
        "    print(y_train)\n",
        "    print()"
      ],
      "metadata": {
        "colab": {
          "base_uri": "https://localhost:8080/"
        },
        "id": "Cd8lw7o2NNrp",
        "outputId": "4dc432ef-108e-4b88-d9ab-796ba841ad43"
      },
      "execution_count": 15,
      "outputs": [
        {
          "output_type": "stream",
          "name": "stdout",
          "text": [
            "[array([0.18583454, 0.25327931, 0.29105966, 0.27667751, 0.2264092 ,\n",
            "       0.15252616, 0.1089955 , 0.19886428, 0.24841392, 0.18586113,\n",
            "       0.16872036, 0.15847489, 0.1806891 , 0.16585125, 0.15202546,\n",
            "       0.02696943, 0.08470493, 0.05986033, 0.06573266, 0.06777225,\n",
            "       0.07316049, 0.01655741, 0.0968962 , 0.11941475, 0.11817365,\n",
            "       0.08758096, 0.09877859, 0.15103337, 0.20298855, 0.18852798,\n",
            "       0.2207912 , 0.25049773, 0.24089563, 0.4340398 , 0.44157805,\n",
            "       0.40018654, 0.47940237, 0.46869034, 0.45811456, 0.50079983,\n",
            "       0.48034853, 0.51358025, 0.59168346, 0.57925715, 0.69070826,\n",
            "       0.6963065 , 0.7344539 , 0.64619461, 0.50363718, 0.52696658,\n",
            "       0.45780566, 0.43783479, 0.43382762, 0.40600193, 0.52500443,\n",
            "       0.49184047, 0.54902489, 0.49666521, 0.50636176, 0.50596658])]\n",
            "[0.5667277061110585]\n",
            "\n",
            "[array([0.18583454, 0.25327931, 0.29105966, 0.27667751, 0.2264092 ,\n",
            "       0.15252616, 0.1089955 , 0.19886428, 0.24841392, 0.18586113,\n",
            "       0.16872036, 0.15847489, 0.1806891 , 0.16585125, 0.15202546,\n",
            "       0.02696943, 0.08470493, 0.05986033, 0.06573266, 0.06777225,\n",
            "       0.07316049, 0.01655741, 0.0968962 , 0.11941475, 0.11817365,\n",
            "       0.08758096, 0.09877859, 0.15103337, 0.20298855, 0.18852798,\n",
            "       0.2207912 , 0.25049773, 0.24089563, 0.4340398 , 0.44157805,\n",
            "       0.40018654, 0.47940237, 0.46869034, 0.45811456, 0.50079983,\n",
            "       0.48034853, 0.51358025, 0.59168346, 0.57925715, 0.69070826,\n",
            "       0.6963065 , 0.7344539 , 0.64619461, 0.50363718, 0.52696658,\n",
            "       0.45780566, 0.43783479, 0.43382762, 0.40600193, 0.52500443,\n",
            "       0.49184047, 0.54902489, 0.49666521, 0.50636176, 0.50596658]), array([0.25327931, 0.29105966, 0.27667751, 0.2264092 , 0.15252616,\n",
            "       0.1089955 , 0.19886428, 0.24841392, 0.18586113, 0.16872036,\n",
            "       0.15847489, 0.1806891 , 0.16585125, 0.15202546, 0.02696943,\n",
            "       0.08470493, 0.05986033, 0.06573266, 0.06777225, 0.07316049,\n",
            "       0.01655741, 0.0968962 , 0.11941475, 0.11817365, 0.08758096,\n",
            "       0.09877859, 0.15103337, 0.20298855, 0.18852798, 0.2207912 ,\n",
            "       0.25049773, 0.24089563, 0.4340398 , 0.44157805, 0.40018654,\n",
            "       0.47940237, 0.46869034, 0.45811456, 0.50079983, 0.48034853,\n",
            "       0.51358025, 0.59168346, 0.57925715, 0.69070826, 0.6963065 ,\n",
            "       0.7344539 , 0.64619461, 0.50363718, 0.52696658, 0.45780566,\n",
            "       0.43783479, 0.43382762, 0.40600193, 0.52500443, 0.49184047,\n",
            "       0.54902489, 0.49666521, 0.50636176, 0.50596658, 0.56672771])]\n",
            "[0.5667277061110585, 0.5942660095607197]\n",
            "\n"
          ]
        }
      ]
    },
    {
      "cell_type": "code",
      "source": [
        "x_train, y_train = np.array(x_train), np.array(y_train)"
      ],
      "metadata": {
        "id": "G2fWVnkNOfub"
      },
      "execution_count": 16,
      "outputs": []
    },
    {
      "cell_type": "code",
      "source": [
        "x_train.shape"
      ],
      "metadata": {
        "colab": {
          "base_uri": "https://localhost:8080/"
        },
        "id": "qvQZXBbaO1rR",
        "outputId": "e3eff402-66c8-4f4c-8d26-07afeffb20eb"
      },
      "execution_count": 17,
      "outputs": [
        {
          "output_type": "execute_result",
          "data": {
            "text/plain": [
              "(232, 60)"
            ]
          },
          "metadata": {},
          "execution_count": 17
        }
      ]
    },
    {
      "cell_type": "code",
      "source": [
        "x_train = np.reshape(x_train, (x_train.shape[0], x_train.shape[1], 1))\n",
        "x_train.shape"
      ],
      "metadata": {
        "colab": {
          "base_uri": "https://localhost:8080/"
        },
        "id": "bJ_TIqHVOo4s",
        "outputId": "bf70ccbf-0243-4473-c07f-5166e359669c"
      },
      "execution_count": 18,
      "outputs": [
        {
          "output_type": "execute_result",
          "data": {
            "text/plain": [
              "(232, 60, 1)"
            ]
          },
          "metadata": {},
          "execution_count": 18
        }
      ]
    },
    {
      "cell_type": "code",
      "source": [
        "model = Sequential()\n",
        "model.add(LSTM(50, return_sequences=True, input_shape = (x_train.shape[1], 1)))\n",
        "model.add(LSTM(50, return_sequences=False))\n",
        "model.add(Dense(25))\n",
        "model.add(Dense(1))"
      ],
      "metadata": {
        "id": "6aBU2ORNPHY6"
      },
      "execution_count": 20,
      "outputs": []
    },
    {
      "cell_type": "code",
      "source": [
        "model.compile(optimizer='adam', loss='mean_squared_error')"
      ],
      "metadata": {
        "id": "1r4vXFSiPl3p"
      },
      "execution_count": 21,
      "outputs": []
    },
    {
      "cell_type": "code",
      "source": [
        "model.fit(x_train, y_train, batch_size=1, epochs=5)"
      ],
      "metadata": {
        "colab": {
          "base_uri": "https://localhost:8080/"
        },
        "id": "8CNzvb0zPuvV",
        "outputId": "17ddfe5a-fba4-49a6-af40-7fcca90b5b73"
      },
      "execution_count": 22,
      "outputs": [
        {
          "output_type": "stream",
          "name": "stdout",
          "text": [
            "Epoch 1/5\n",
            "232/232 [==============================] - 10s 30ms/step - loss: 0.0156\n",
            "Epoch 2/5\n",
            "232/232 [==============================] - 7s 30ms/step - loss: 0.0095\n",
            "Epoch 3/5\n",
            "232/232 [==============================] - 7s 29ms/step - loss: 0.0062\n",
            "Epoch 4/5\n",
            "232/232 [==============================] - 7s 29ms/step - loss: 0.0055\n",
            "Epoch 5/5\n",
            "232/232 [==============================] - 7s 29ms/step - loss: 0.0048\n"
          ]
        },
        {
          "output_type": "execute_result",
          "data": {
            "text/plain": [
              "<keras.callbacks.History at 0x7f9e35b1bfd0>"
            ]
          },
          "metadata": {},
          "execution_count": 22
        }
      ]
    },
    {
      "cell_type": "code",
      "source": [
        "test_data = scaled_data[training_data_len - 60: , :]\n",
        "x_test = []\n",
        "y_test = dataset[training_data_len:, :]\n",
        "for i in range(60, len(test_data)):\n",
        "  x_test.append(test_data[i-60:i, 0])"
      ],
      "metadata": {
        "id": "xJfiTASWQCOr"
      },
      "execution_count": 23,
      "outputs": []
    },
    {
      "cell_type": "code",
      "source": [
        "x_test = np.array(x_test)"
      ],
      "metadata": {
        "id": "nPGPOHLAQjtp"
      },
      "execution_count": 24,
      "outputs": []
    },
    {
      "cell_type": "code",
      "source": [
        "x_test = np.reshape(x_test, (x_test.shape[0], x_test.shape[1], 1))\n",
        "x_test.shape"
      ],
      "metadata": {
        "colab": {
          "base_uri": "https://localhost:8080/"
        },
        "id": "Iby_77wUQp4I",
        "outputId": "44688775-de22-4d14-e8a2-a720d944f35c"
      },
      "execution_count": 25,
      "outputs": [
        {
          "output_type": "execute_result",
          "data": {
            "text/plain": [
              "(73, 60, 1)"
            ]
          },
          "metadata": {},
          "execution_count": 25
        }
      ]
    },
    {
      "cell_type": "code",
      "source": [
        "predictions = model.predict(x_test)\n",
        "predictions = scaler.inverse_transform(predictions)\n"
      ],
      "metadata": {
        "id": "53IDqv1kQ95S"
      },
      "execution_count": 26,
      "outputs": []
    },
    {
      "cell_type": "code",
      "source": [
        "rmse = np.sqrt( np.mean( predictions - y_test )**2 )\n",
        "rmse"
      ],
      "metadata": {
        "colab": {
          "base_uri": "https://localhost:8080/"
        },
        "id": "wrHFGem7RT_j",
        "outputId": "2816eb61-b68a-48e4-d878-4a1a18e788e3"
      },
      "execution_count": 29,
      "outputs": [
        {
          "output_type": "execute_result",
          "data": {
            "text/plain": [
              "963.5147688356165"
            ]
          },
          "metadata": {},
          "execution_count": 29
        }
      ]
    },
    {
      "cell_type": "code",
      "source": [
        "train = data[:training_data_len]\n",
        "valid = data[training_data_len:]\n",
        "valid['Predictions'] = predictions\n",
        "plt.figure(figsize=(12,6))\n",
        "plt.title('Model')\n",
        "plt.xlabel('Days')\n",
        "plt.ylabel('Close Price')\n",
        "plt.plot(data['Close'])\n",
        "plt.plot(valid[['Close', 'Predictions']])\n",
        "plt.legend(['Orig', 'Val', 'Pred'])\n",
        "plt.show()"
      ],
      "metadata": {
        "colab": {
          "base_uri": "https://localhost:8080/",
          "height": 508
        },
        "id": "fCYGijeCRyHb",
        "outputId": "1eee8816-a030-4925-ef97-b71ec79bb93d"
      },
      "execution_count": 32,
      "outputs": [
        {
          "output_type": "stream",
          "name": "stderr",
          "text": [
            "/usr/local/lib/python3.7/dist-packages/ipykernel_launcher.py:3: SettingWithCopyWarning: \n",
            "A value is trying to be set on a copy of a slice from a DataFrame.\n",
            "Try using .loc[row_indexer,col_indexer] = value instead\n",
            "\n",
            "See the caveats in the documentation: https://pandas.pydata.org/pandas-docs/stable/user_guide/indexing.html#returning-a-view-versus-a-copy\n",
            "  This is separate from the ipykernel package so we can avoid doing imports until\n"
          ]
        },
        {
          "output_type": "display_data",
          "data": {
            "image/png": "[encoded data removed]",
            "text/plain": [
              "<Figure size 864x432 with 1 Axes>"
            ]
          },
          "metadata": {
            "needs_background": "light"
          }
        }
      ]
    }
  ]
}